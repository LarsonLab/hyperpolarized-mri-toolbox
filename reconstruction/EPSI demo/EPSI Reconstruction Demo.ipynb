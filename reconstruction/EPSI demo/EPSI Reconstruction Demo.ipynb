{
 "cells": [
  {
   "cell_type": "markdown",
   "metadata": {},
   "source": [
    "# Hyperpolarized C13 EPSI Reconstruction Demo"
   ]
  },
  {
   "cell_type": "markdown",
   "metadata": {},
   "source": [
    "This demonstration shows the reconstruction of a Hyperpolarized C13 echo-planar spectroscopic imaging (EPSI) reconstruction, specifically for data acquired with a compressed-sensing EPSI pulse sequence.  This sequence uses pseudo-random blip gradients during the EPSI readout to randomly cover k-space.  These random blips vary across dynamic time points as well.  Additional details about the sampling and reconstruction can be found in\n",
    "\n",
    "https://doi.org/10.1002/mrm.22650\n",
    "\n",
    "https://doi.org/10.1002/mrm.27179\n",
    "\n",
    "\n",
    "## Install code, setup path\n",
    "\n",
    "To run this code you will need to clone the hyperpolarized MRI toolbox\n",
    "repository from github and add it to your matlab path. \n",
    "This can be done with the following command:\n",
    "'git clone https://github.com/LarsonLab/hyperpolarized-mri-toolbox/'\n",
    "\n",
    "This also requires the Optimization Toolbox (Matlab) or 'optim' toolbox (Octave) for the kinetic model fitting and Image Processing Toolbox ('image' in Octave) for plots\n"
   ]
  },
  {
   "cell_type": "code",
   "execution_count": 1,
   "metadata": {},
   "outputs": [
    {
     "name": "stdout",
     "output_type": "stream",
     "text": [
      "root_dir = C:\\Users\\PLarson\\Documents\\GitHub\\hyperpolarized-mri-toolbox\\recon\\EPSI demo/\n",
      "loading optim\n",
      "warning: isdir is obsolete; use isfolder or dir_in_loadpath instead\n",
      "loading image\n",
      "loading io\n",
      "loading statistics\n"
     ]
    }
   ],
   "source": [
    "% setup hyperpolarized-mri-toolbox\n",
    "root_dir = sprintf('%s/',pwd)\n",
    "\n",
    "cd ../../\n",
    "startup"
   ]
  },
  {
   "cell_type": "code",
   "execution_count": 2,
   "metadata": {},
   "outputs": [],
   "source": [
    "% Setup data structures\n",
    "fb_root_name = 'csimage_in';\n",
    "samp_pattern_name = 'loc_samp_3d_dyn';\n",
    "numReps = 18;"
   ]
  },
  {
   "cell_type": "markdown",
   "metadata": {},
   "source": [
    "The following code to fill in missing k-space data using a compressed sensing reconstruction was extracted from the following function call\n",
    "\n",
    "> kspace_all = recon_cs3d_dyn_sivic_v1(root_dir, fb_root_name, samp_pattern_name, numReps);"
   ]
  },
  {
   "cell_type": "code",
   "execution_count": 3,
   "metadata": {},
   "outputs": [],
   "source": [
    "% setup additional parameters (from recon_cs3d_dyn_sivic_v1)\n",
    "\n",
    "Navg = 1;\n",
    "\n",
    "% compressed sensing weights for \n",
    "Itnlim = 16;\n",
    "loopIter = 6;\n",
    "TVWeight = 1e-6;\n",
    "xfmWeight = 1e-2;\n",
    "wavelet_time_scale = 2;  % similar between 0,1,2\n",
    "\n",
    "plot_test = 0;\n",
    "\n",
    "timedim = 4; % after squeeze\n",
    "\n"
   ]
  },
  {
   "cell_type": "code",
   "execution_count": 4,
   "metadata": {},
   "outputs": [],
   "source": [
    "% load and setup data structures\n",
    "\n",
    "load([root_dir samp_pattern_name]); % File from blip generation\n",
    "\n",
    "S = size(loc_samp_3d_dyn);\n",
    "length_x = S(1); length_y = S(2); length_f = S(3);\n",
    "length_z = 16;\n",
    "\n",
    "% data_all = zeros(length_f, length_x, length_y, length_z, numReps);\n",
    "mask_all = zeros(length_f, length_x, length_y, numReps);\n",
    "\n",
    "\n",
    "for n = 1:numReps\n",
    "    Isum = [1:Navg] + (n-1)*Navg;\n",
    "    \n",
    "    mask_all(:,:,:,n) = ...\n",
    "        shiftdim(any(loc_samp_3d_dyn(:,:,:,Isum),4),2);\n",
    "end\n",
    "\n",
    "load([root_dir fb_root_name]); % File from 3d undersample dataset\n",
    "\n",
    "N = size(mask_all); % k-space and image size do not have to be the same\n",
    "NN1 = 2^ceil(log(N(1))/log(2));\n",
    "if numReps > 1\n",
    "    NN4 = 2^ceil(log(N(4))/log(2)); % interpolate to diadic number for wavelets\n",
    "else\n",
    "    NN4 = 1;\n",
    "end\n",
    "NN = [NN1,N(2),N(3),NN4];\n",
    "\n",
    "data_hybrid = fftshift(ifft(data_all, [], 4), 4);\n",
    "kspace_hybrid = zeros(length_f, length_x, length_y, length_z, numReps);\n"
   ]
  },
  {
   "cell_type": "code",
   "execution_count": 5,
   "metadata": {},
   "outputs": [
    {
     "name": "stdout",
     "output_type": "stream",
     "text": [
      "repetition_plot =  8\n"
     ]
    },
    {
     "data": {
      "image/png": "[encoded data removed]",
      "text/plain": [
       "<IPython.core.display.Image object>"
      ]
     },
     "metadata": {},
     "output_type": "display_data"
    }
   ],
   "source": [
    "% plot sampling pattern\n",
    "\n",
    "repetition_plot = 8\n",
    "f_plot = 1:9;\n",
    "\n",
    "clim = [0 1];\n",
    "mask_plot = permute(mask_all(:,:,:,:),[2 3 4 1]); % X, Y, channel, F\n",
    "montage(mask_plot(:,:,repetition_plot,f_plot), 'MarginWidth',2)\n",
    "%for f_plot = 1:5\n",
    "%    subplot(1, 5, f_plot), imshow(permute(mask_all(f_plot,:,:,repetition_plot), [2 3 1]))\n",
    "%end"
   ]
  },
  {
   "cell_type": "markdown",
   "metadata": {},
   "source": [
    "Above should be the kx-ky sampling patterns at different times (kf)"
   ]
  },
  {
   "cell_type": "code",
   "execution_count": 65,
   "metadata": {},
   "outputs": [
    {
     "name": "stdout",
     "output_type": "stream",
     "text": [
      "repetition_plot =  18\n"
     ]
    }
   ],
   "source": [
    "repetition_plot = 18\n",
    "spectra_plot_zerofilled = fftshift( fftshift( fftshift( fftshift(ifftn(ifftshift(ifftshift(ifftshift(data_all(:,:,:,:,repetition_plot), 2),3), 4)) ,1),2),3),4);"
   ]
  },
  {
   "cell_type": "code",
   "execution_count": 68,
   "metadata": {},
   "outputs": [
    {
     "name": "stdout",
     "output_type": "stream",
     "text": [
      "slice_plot =  9\n",
      "x_plot =  7\n",
      "y_plot =  9\n"
     ]
    },
    {
     "data": {
      "image/png": "[encoded data removed]",
      "text/plain": [
       "<IPython.core.display.Image object>"
      ]
     },
     "metadata": {},
     "output_type": "display_data"
    }
   ],
   "source": [
    "slice_plot = 9\n",
    "x_plot = 7\n",
    "y_plot = 9\n",
    "\n",
    "cplot(spectra_plot_zerofilled(:,x_plot,y_plot,slice_plot))\n",
    "title('sample zero-filled complex spectrum')"
   ]
  },
  {
   "cell_type": "code",
   "execution_count": 67,
   "metadata": {},
   "outputs": [
    {
     "data": {
      "image/png": "[encoded data removed]",
      "text/plain": [
       "<IPython.core.display.Image object>"
      ]
     },
     "metadata": {},
     "output_type": "display_data"
    }
   ],
   "source": [
    "total_carbon_image_zerofilled = squeeze(sum(abs(spectra_plot_zerofilled), 1));\n",
    "imagesc(abs(total_carbon_image_zerofilled(:,:,9)))\n",
    "%montage(permute(total_carbon_image_zerofilled, [1 2 4 3]))\n",
    "title('sample zero-filled total carbon image')"
   ]
  },
  {
   "cell_type": "code",
   "execution_count": 74,
   "metadata": {},
   "outputs": [
    {
     "name": "stdout",
     "output_type": "stream",
     "text": [
      "Sscale =\n",
      "\n",
      "      8.0549   7900.7959\n",
      "\n",
      "Nx =  12\n",
      "Ny =  12\n"
     ]
    },
    {
     "data": {
      "image/png": "[encoded data removed]",
      "text/plain": [
       "<IPython.core.display.Image object>"
      ]
     },
     "metadata": {},
     "output_type": "display_data"
    }
   ],
   "source": [
    "%spectra_plot_zerofilled_slice = permute(abs(spectra_plot_zerofilled(:,:,:,slice_plot),[2 3 1]));\n",
    "\n",
    "plot_voxels(permute(abs(spectra_plot_zerofilled(:,:,:,slice_plot)),[2 3 1]))"
   ]
  },
  {
   "cell_type": "code",
   "execution_count": null,
   "metadata": {},
   "outputs": [],
   "source": [
    "%%%%%%%%%%%%%\n",
    "% L1 Recon\n",
    "%%%%%%%%%%%%%\n",
    "\n",
    "kspace_all = recon_cs3d_dyn_sivic_v1(root_dir, fb_root_name, samp_pattern_name, ...\n",
    "    numReps);\n"
   ]
  },
  {
   "cell_type": "code",
   "execution_count": null,
   "metadata": {},
   "outputs": [],
   "source": [
    "% save dynamic data\n",
    "tmp_csreorder = read_ddf_image('dummy_ddf/dynth01_phased');\n",
    "dynamic_cs.ddf = set_ddf_dyn_dim(tmp_csreorder.ddf, 'dynamic_cs', numReps);  \n",
    "dynamic_cs.ddf.specpoints = 59;\n",
    "dynamic_cs.img = kspace_all;\n",
    "dynamic_cs.img = fftshift(fft(dynamic_cs.img,[],1),1);\n",
    "for fftdim = 2:4,\n",
    "    dynamic_cs.img = fftshift(ifft(dynamic_cs.img,[],fftdim),fftdim);\n",
    "end\n",
    "write_ddf_image_ex([root_dir 'dynamic_cs'],dynamic_cs);"
   ]
  }
 ],
 "metadata": {
  "kernelspec": {
   "display_name": "Octave",
   "language": "octave",
   "name": "octave"
  },
  "language_info": {
   "file_extension": ".m",
   "help_links": [
    {
     "text": "GNU Octave",
     "url": "https://www.gnu.org/software/octave/support.html"
    },
    {
     "text": "Octave Kernel",
     "url": "https://github.com/Calysto/octave_kernel"
    },
    {
     "text": "MetaKernel Magics",
     "url": "https://metakernel.readthedocs.io/en/latest/source/README.html"
    }
   ],
   "mimetype": "text/x-octave",
   "name": "octave",
   "version": "5.1.0"
  }
 },
 "nbformat": 4,
 "nbformat_minor": 2
}
