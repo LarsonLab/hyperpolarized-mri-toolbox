{
 "cells": [
  {
   "cell_type": "code",
   "execution_count": 5,
   "metadata": {},
   "outputs": [
    {
     "name": "stdout",
     "output_type": "stream",
     "text": [
      "loading optim\n",
      "loading image\n",
      "loading io\n",
      "loading statistics\n",
      "loading signal\n"
     ]
    }
   ],
   "source": [
    "% Toolbox Setup\n",
    "cd ../\n",
    "startup"
   ]
  },
  {
   "cell_type": "markdown",
   "metadata": {},
   "source": [
    "# Hyperpolarized Metrics Evaluation\n",
    "\n",
    "The goal of this notebook is to demonstrate simulation tools for comparing metrics of hyperpolarized MR metabolic data.  It is based on simulations originally presented in the following citation(s)\n",
    "\n",
    "* Larson, Peder E. Z., Hsin-Yu Chen, Jeremy W. Gordon, Natalie Korn, John Maidens, Murat Arcak, Shuyu Tang, et al. “Investigation of Analysis Methods for Hyperpolarized 13C-Pyruvate Metabolic MRI in Prostate Cancer Patients.” NMR in Biomedicine 31, no. 11 (November 2018): e3997. https://doi.org/10.1002/nbm.3997.\n",
    "\n",
    "It is very challenging to evaluate the accuracy of HP metabolism metrics in vivo because it is nearly impossible to have a ground truth values and the apparent rate constants can be influenced by a combination of perfusion/delivery, cellular uptake, intracellular transport (e.g. into mitochondria), enzymatic conversion, efflux out of cells, and out-flow, and compartmental T1 differences.\n",
    "\n",
    "Given this limitation, simulations can be used very effectively to provide insight into evaluation of HP metabolism metrics.  Simulation parameters to evaluate should include key HP experimental variables such the conversion rates, relaxation rates, noise level, acquisition strategy (flip angles, timing), bolus and perfusion characteristics, and flip angle accuracy. \n",
    "\n",
    "Monte Carlo simulations, in which a signal is analyzed many times in the presence of unique added noise, can be used to characterize the response of metrics, both in terms of accuracy and precision."
   ]
  },
  {
   "cell_type": "markdown",
   "metadata": {},
   "source": [
    "## Simulated Data\n",
    "\n",
    "This demonstration uses a precursor-product model of HP 13C-pyruvate to 13C-lactate conversion in a single physical compartment following a bolus injection.\n",
    "However, this approach can be modified for other models as well, similar to the use of a two physical compartment model used in Sun, Chang-yu, Christopher M. Walker, Keith A. Michel, Aradhana M. Venkatesan, Stephen Y. Lai, and James A. Bankson. “Influence of Parameter Accuracy on Pharmacokinetic Analysis of Hyperpolarized Pyruvate.” Magnetic Resonance in Medicine 79, no. 6 (June 2018): 3239–48. https://doi.org/10.1002/mrm.26992.\n",
    "\n",
    "![precursor-product model for HP pyruvate in a single physical compartment.  All observed signal is assumed to be in contact with enzymes that mediate exchange.  The blue cube represents an imaging voxel.  Adapted from Bankson et al, Cancer Research 2015.]()"
   ]
  },
  {
   "cell_type": "code",
   "execution_count": 8,
   "metadata": {},
   "outputs": [
    {
     "data": {
      "image/png": "[encoded data removed]",
      "text/plain": [
       "<IPython.core.display.Image object>"
      ]
     },
     "metadata": {},
     "output_type": "display_data"
    }
   ],
   "source": [
    "% sample data for the model\n",
    "\n",
    "acq_sample.TR = 3;\n",
    "acq_sample.N = 20;\n",
    "acq_sample.flips = repmat([25*pi/180; 25*pi/180], [1 acq_sample.N]);\n",
    "experiment_sample.R1P = 1/25; experiment_sample.R1L = 1/25; \n",
    "experiment_sample.kPL = 0.02;\n",
    "experiment_sample.Tarrival = 0;  experiment_sample.Tbolus = 8;\n",
    "    \n",
    "[input_function, t_input] = realistic_input_function(acq_sample.N, acq_sample.TR, experiment_sample.Tarrival, experiment_sample.Tbolus);  % gives a full-width half-max of the bolus of ~ Tbolus sec\n",
    "\n",
    "[Mxy Mz] = simulate_Nsite_model([0 0], [experiment_sample.R1P experiment_sample.R1L], [experiment_sample.kPL 0], acq_sample.flips, acq_sample.TR, input_function);\n",
    "\n",
    "plot(t_input, Mxy)\n",
    "xlabel('time (s)'), ylabel('Signal')\n",
    "legend('pyruvate', 'lactate')\n",
    "title('Simulated Data (without noise)')"
   ]
  },
  {
   "cell_type": "markdown",
   "metadata": {},
   "source": [
    "## Monte Carlo Simulations\n",
    "\n",
    "A Monte Carlo simulation is performed with a repeated set of random measurements.  For this application, it means adding different random noise to the simulated signal prior to determining a HP metabolism metric.\n",
    "\n",
    "The `hyperpolarized-mri-toolbox` provides a helper function to perform these simulations\n",
    "\n",
    "    [ results, hdata, hsim ] = HP_montecarlo_evaluation( acq, fitting, experiment );\n",
    "\n",
    "    INPUTS:\n",
    "    acq - structure containing acquisition parameters, must include TR, flips, N (number of timepoints)\n",
    "    fitting - structure containing fitting parameters, including fit_fcn, params_est, params_fixed\n",
    "       (for use with fit_pyr_kinetics* functions)    \n",
    "    experiment - structure containing experimental parameters and ranges for simulations (optional)\n",
    "\n",
    "    OUTPUTS:\n",
    "    results - structure containing summary of results\n",
    "    hdata, hsim - handles to figures from function\n"
   ]
  },
  {
   "cell_type": "code",
   "execution_count": 15,
   "metadata": {},
   "outputs": [],
   "source": [
    "% Setup parameters\n",
    "\n",
    "clear experiment acq\n",
    "\n",
    "% default experiment values\n",
    "experiment.R1P = 1/25;  experiment.R1L =1/25;  experiment.kPL = 0.02; \n",
    "experiment.std_noise = 0.02;  % for kPL vs AUC figure\n",
    "%experiment.std_noise = 0.005; % for relative error figure\n",
    "experiment.Tarrival = 0;  experiment.Tbolus = 8;\n",
    "\n",
    "% Acquisition parameters\n",
    "Tacq = 48;\n",
    "acq.TR = 3; acq.N = Tacq/acq.TR;"
   ]
  },
  {
   "cell_type": "code",
   "execution_count": 16,
   "metadata": {},
   "outputs": [],
   "source": [
    "clear params_est params_fixed\n",
    "\n",
    "% default fitting parameters\n",
    "R1P_est = 1/25; R1L_est = 1/25; kPL_est = .02;\n",
    "Tarrival_est = experiment.Tarrival;    Tbolus_est = experiment.Tbolus;  % ... perfect estimates ... how do they perform with variability?\n",
    "Rinj_est = 0.1; % looks reasonable\n",
    "\n",
    "params_fixed.R1P = R1P_est;\n",
    "params_fixed.R1L = R1L_est;\n",
    "params_est.kPL = kPL_est;"
   ]
  },
  {
   "cell_type": "code",
   "execution_count": 17,
   "metadata": {},
   "outputs": [],
   "source": [
    "% these structures choose the fitting methods to test\n",
    "clear fitting\n",
    "\n",
    "fitting(1).fit_fcn = @fit_pyr_kinetics;\n",
    "fitting(1).params_fixed = params_fixed;\n",
    "fitting(1).params_est = params_est;\n",
    "fitting(1).fit_description = ['Inputless fitting'];\n",
    "fitting(1).metric = 'kPL';\n",
    "\n",
    "% fitting(2).fit_fcn = @fit_pyr_kinetics_and_input;\n",
    "% params_est.Tarrival = Tarrival_est+2; params_est.Rinj = Rinj_est*1.2; params_est.Tbolus = Tbolus_est-1;\n",
    "% params_est.Tarrival_lb = 0; params_est.Tarrival_ub = 12; params_est.Tbolus_lb = 6; params_est.Tbolus_ub = 10;\n",
    "% fitting(2).params_fixed = params_fixed;\n",
    "% fitting(2).params_est = params_est;\n",
    "% fitting(2).fit_description = ['Fitting the input function'];\n",
    "% fitting(2).metric = 'kPL';\n",
    "\n",
    "fitting(2).fit_fcn = @fit_pyr_kinetics;\n",
    "clear params_est params_fixed \n",
    "params_fixed.R1P = R1P_est;\n",
    "params_est.R1L = R1L_est;\n",
    "params_est.kPL = kPL_est;\n",
    "fitting(2).params_fixed = params_fixed;\n",
    "fitting(2).params_est = params_est;\n",
    "fitting(2).fit_description = ['Inputless Fitting with T1 Fit'];\n",
    "fitting(2).metric = 'kPL';\n",
    "\n",
    "fitting(3).fit_fcn = @compute_AUCratio;\n",
    "fitting(3).metric = 'AUCratio';  %\n",
    "fitting(3).fit_description = ['AUC Ratio'];\n",
    "\n",
    "% Ifitting = 4;\n",
    "% fitting(Ifitting).fit_fcn = @compute_mean_time;\n",
    "% fitting(Ifitting).metric = 'LactateMeanTime';  %\n",
    "% fitting(Ifitting).fit_description = ['Lactate Mean Time'];\n",
    "% \n",
    "% Ifitting = 5;\n",
    "% fitting(Ifitting).fit_fcn = @compute_TTP;\n",
    "% fitting(Ifitting).metric = 'LactateTTP';  %\n",
    "% fitting(Ifitting).fit_description = ['Lactate Time-to-Peak'];"
   ]
  },
  {
   "cell_type": "code",
   "execution_count": 28,
   "metadata": {},
   "outputs": [
    {
     "name": "stdout",
     "output_type": "stream",
     "text": [
      "error: 'isOctave' undefined near line 131 column 4\n",
      "error: called from\n",
      "    HP_montecarlo_evaluation at line 131 column 1\n"
     ]
    },
    {
     "data": {
      "image/png": "[encoded data removed]",
      "text/plain": [
       "<IPython.core.display.Image object>"
      ]
     },
     "metadata": {},
     "output_type": "display_data"
    },
    {
     "data": {
      "image/png": "[encoded data removed]",
      "text/plain": [
       "<IPython.core.display.Image object>"
      ]
     },
     "metadata": {},
     "output_type": "display_data"
    }
   ],
   "source": [
    "%Run the simulation\n",
    "\n",
    "% number of repetitions of simulation for Monte Carlo evaluation\n",
    "experiment.NMC = 5;  % using fewer in this example for quicker testing, increase to several hundred for more robust results\n",
    "\n",
    "\n",
    "% This will compare the metrics also for three different flip angle schemes\n",
    "for flip_scheme = 1\n",
    "    switch flip_scheme\n",
    "        case 1\n",
    "            acq.flips = repmat([25*pi/180; 25*pi/180], [1 acq.N]);\n",
    "            flip_description = 'constant 25-degrees';\n",
    "        case 2\n",
    "            acq.flips = repmat([20*pi/180; 30*pi/180], [1 acq.N]);\n",
    "            flip_description = 'metabolite-specific 20(pyruvate)/30(lactate)-degrees';\n",
    "        case 3\n",
    "            k12 = 0.05; % for variable flip angle designs\n",
    "            acq.flips = [vfa_const_amp(acq.N, pi/2, exp(-acq.TR * ( k12))); ... % T1-effective pyruvate variable flip angles\n",
    "                vfa_opt_signal(acq.N, exp(-acq.TR * ( R1L_est)))]; % max lactate SNR variable flip angle\n",
    "            flip_description = 'metabolite-specific variable flip angle';\n",
    "    end\n",
    "    [results, hdata, hsim ] = HP_montecarlo_evaluation( acq, fitting, experiment );\n",
    "end"
   ]
  },
  {
   "cell_type": "code",
   "execution_count": null,
   "metadata": {},
   "outputs": [],
   "source": [
    "return\n",
    "%    figure(hsim)\n",
    "    for n=1\n",
    "        subplot(1,length(fitting),n)\n",
    "        ylim([0 0.04])\n",
    "        xlim([0 0.04])\n",
    "    end\n",
    "\n",
    "    "
   ]
  },
  {
   "cell_type": "code",
   "execution_count": 27,
   "metadata": {},
   "outputs": [
    {
     "name": "stdout",
     "output_type": "stream",
     "text": [
      "legh = -50.102\n"
     ]
    },
    {
     "data": {
      "image/png": "[encoded data removed]",
      "text/plain": [
       "<IPython.core.display.Image object>"
      ]
     },
     "metadata": {},
     "output_type": "display_data"
    }
   ],
   "source": [
    "figure\n",
    "subplot(121)\n",
    "plot(1:10, rand(1,10))\n",
    "legh = legend\n",
    "set(legh,'Location','southeastoutside')"
   ]
  },
  {
   "cell_type": "code",
   "execution_count": null,
   "metadata": {},
   "outputs": [],
   "source": []
  }
 ],
 "metadata": {
  "kernelspec": {
   "display_name": "Octave",
   "language": "octave",
   "name": "octave"
  },
  "language_info": {
   "file_extension": ".m",
   "help_links": [
    {
     "text": "GNU Octave",
     "url": "https://www.gnu.org/software/octave/support.html"
    },
    {
     "text": "Octave Kernel",
     "url": "https://github.com/Calysto/octave_kernel"
    },
    {
     "text": "MetaKernel Magics",
     "url": "https://metakernel.readthedocs.io/en/latest/source/README.html"
    }
   ],
   "mimetype": "text/x-octave",
   "name": "octave",
   "version": "5.1.0"
  }
 },
 "nbformat": 4,
 "nbformat_minor": 4
}
