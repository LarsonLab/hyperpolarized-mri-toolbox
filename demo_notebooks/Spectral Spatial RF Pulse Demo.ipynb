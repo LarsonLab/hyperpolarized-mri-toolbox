{
 "cells": [
  {
   "cell_type": "markdown",
   "metadata": {},
   "source": [
    "# Spectral-Spatial RF Pulse Design\n",
    "\n",
    "This Spectral Spatial RF Pulse Design toolbox provides numerous advanced tools for designing these powerful types of RF pulses for MRI applications.\n",
    "\n",
    "**NOTEBOOK is not working - requires migration of some toolbox functions to Octave that is not complete!**\n",
    "\n",
    "**see spectral_spatial/examples folder for MATLAB based demos**\n",
    "\n",
    "This notebook includes examples of\n",
    "\n",
    "1. Nothing yet...\n",
    "\n",
    "\n",
    "## Install code, setup path\n",
    "To run this code you will need to clone the hyperpolarized MRI toolbox repository from github and add it to your matlab path. This can be done with the following command: 'git clone https://github.com/LarsonLab/hyperpolarized-mri-toolbox/'\n",
    "\n",
    "Then run the 'startup' function to setup the appropriate paths"
   ]
  },
  {
   "cell_type": "code",
   "execution_count": 1,
   "metadata": {},
   "outputs": [
    {
     "name": "stdout",
     "output_type": "stream",
     "text": [
      "loading optim\n",
      "warning: isdir is obsolete; use isfolder or dir_in_loadpath instead\n",
      "loading image\n",
      "loading io\n",
      "loading statistics\n",
      "loading signal\n"
     ]
    }
   ],
   "source": [
    "% setup hyperpolarized-mri-toolbox\n",
    "cd ../\n",
    "startup"
   ]
  },
  {
   "cell_type": "code",
   "execution_count": 2,
   "metadata": {},
   "outputs": [
    {
     "name": "stdout",
     "output_type": "stream",
     "text": [
      "ans =\n",
      "{\n",
      "  [1,1] = Nucleus\n",
      "  [2,1] = Max Grad\n",
      "  [3,1] = Max Slew\n",
      "  [4,1] = Sample Time\n",
      "  [5,1] = Max B1\n",
      "  [6,1] = Max Duration\n",
      "  [7,1] = Num Lobe Iters\n",
      "  [8,1] = Equal Lobes\n",
      "  [9,1] = Verse Fraction\n",
      "  [10,1] = Num Fs Test\n",
      "  [11,1] = Spect Correct\n",
      "  [12,1] = Spect Correct Reg\n",
      "  [13,1] = SLR\n",
      "  [14,1] = Min Order\n",
      "  [15,1] = B1 Verse\n",
      "  [16,1] = Slew Penalty\n",
      "  [1,2] = Hydrogen\n",
      "  [2,2] =  5\n",
      "  [3,2] =  20\n",
      "  [4,2] =  0.0000040000\n",
      "  [5,2] =  0.20000\n",
      "  [6,2] =  0.020000\n",
      "  [7,2] =  10\n",
      "  [8,2] = 0\n",
      "  [9,2] =  0.80000\n",
      "  [10,2] =  100\n",
      "  [11,2] = 0\n",
      "  [12,2] = 0\n",
      "  [13,2] = 0\n",
      "  [14,2] =  1\n",
      "  [15,2] = 0\n",
      "  [16,2] = 0\n",
      "}\n",
      "\n"
     ]
    }
   ],
   "source": [
    "% options with their default values\n",
    "ss_opt([])"
   ]
  },
  {
   "cell_type": "markdown",
   "metadata": {},
   "source": [
    "## Water-only pulse\n",
    "\n",
    "First, here's an example of a water-only spectral-spatial RF pulse that will not excite fat.  This is a great way to eliminate artifacts from fat, particularly when using EPI for diffusion and fMRI."
   ]
  },
  {
   "cell_type": "code",
   "execution_count": 5,
   "metadata": {},
   "outputs": [
    {
     "name": "stdout",
     "output_type": "stream",
     "text": [
      "Iterating on spectral sampling frequency to reduce B1\n",
      "Error caught in cfirpm: \n",
      "'cfirpm' undefined near line 175 column 18\n",
      "Failed to get filter\n",
      "Band: 1/1 Iter: 1/5 Fs: 1131.2 *** No Soln ***\n",
      "Error caught in cfirpm: \n",
      "'cfirpm' undefined near line 175 column 18\n",
      "Failed to get filter\n",
      "Band: 1/1 Iter: 2/5 Fs:  915.8 *** No Soln ***\n",
      "Error caught in cfirpm: \n",
      "'cfirpm' undefined near line 175 column 18\n",
      "Failed to get filter\n",
      "Band: 1/1 Iter: 3/5 Fs:  714.3 *** No Soln ***\n",
      "Error caught in cfirpm: \n",
      "'cfirpm' undefined near line 175 column 18\n",
      "Failed to get filter\n",
      "Band: 1/1 Iter: 4/5 Fs:  513.3 *** No Soln ***\n",
      "Error caught in cfirpm: \n",
      "'cfirpm' undefined near line 175 column 18\n",
      "Failed to get filter\n",
      "Band: 1/1 Iter: 5/5 Fs:  310.9 *** No Soln ***\n",
      "No solution found! Trying to increase band ripples to determine limiting\n",
      " frequency specifications...\n",
      "Error caught in cfirpm: \n",
      "'cfirpm' undefined near line 175 column 18\n",
      "Failed to get filter\n",
      "Error caught in cfirpm: \n",
      "'cfirpm' undefined near line 175 column 18\n",
      "Failed to get filter\n",
      "Error caught in cfirpm: \n",
      "'cfirpm' undefined near line 175 column 18\n",
      "Failed to get filter\n",
      "Error caught in cfirpm: \n",
      "'cfirpm' undefined near line 175 column 18\n",
      "Failed to get filter\n",
      "Error caught in cfirpm: \n",
      "'cfirpm' undefined near line 175 column 18\n",
      "Failed to get filter\n",
      "Error caught in cfirpm: \n",
      "'cfirpm' undefined near line 175 column 18\n",
      "Failed to get filter\n",
      "Error caught in cfirpm: \n",
      "'cfirpm' undefined near line 175 column 18\n",
      "Failed to get filter\n",
      "Error caught in cfirpm: \n",
      "'cfirpm' undefined near line 175 column 18\n",
      "Failed to get filter\n",
      "Error caught in cfirpm: \n",
      "'cfirpm' undefined near line 175 column 18\n",
      "Failed to get filter\n",
      "Error caught in cfirpm: \n",
      "'cfirpm' undefined near line 175 column 18\n",
      "Failed to get filter\n",
      "Error caught in cfirpm: \n",
      "'cfirpm' undefined near line 175 column 18\n",
      "Failed to get filter\n",
      "Error caught in cfirpm: \n",
      "'cfirpm' undefined near line 175 column 18\n",
      "Failed to get filter\n",
      "Error caught in cfirpm: \n",
      "'cfirpm' undefined near line 175 column 18\n",
      "Failed to get filter\n",
      "Error caught in cfirpm: \n",
      "'cfirpm' undefined near line 175 column 18\n",
      "Failed to get filter\n",
      "Error caught in cfirpm: \n",
      "'cfirpm' undefined near line 175 column 18\n",
      "Failed to get filter\n",
      "Error caught in cfirpm: \n",
      "'cfirpm' undefined near line 175 column 18\n",
      "Failed to get filter\n",
      "error: No solution found! Try reducing bandwidths, increasing ripple, increasing max duration, increasing slice thickness...\n",
      "error: called from\n",
      "    ss_design at line 475 column 13\n",
      "The frequency spec includes a passband at [-31.935000,31.935000]\n",
      "and stopbands at [-274.641000,-185.223000]\n"
     ]
    }
   ],
   "source": [
    "% SPECTRAL PULSE PARAMETERS \n",
    "% Water/fat chemical shifts\n",
    "%\n",
    "df = 0.5e-6;% Conservative shim requirement\n",
    "water = 4.7e-6;\n",
    "fat2 = 1.3e-6;\n",
    "fat1 = 0.9e-6;\n",
    "\n",
    "% Convert to frequency\n",
    "%\n",
    "B0 = 1.5e4; % G\n",
    "gamma_h = 4258; % Hz/G\n",
    "fspec = B0 * ([(fat1-df) (fat2+df) (water-df) (water+df)]-water) * gamma_h; % Hz\n",
    "\n",
    "water_ctr = (fspec(3) + fspec(4))/2;\n",
    "fat_ctr = (fspec(1) + fspec(2))/2;\n",
    "\n",
    "% SPATIAL PULSE PARAMETERS\n",
    "z_thk = 1;  % thickness (cm)\n",
    "z_tb = 4; % time-bandwidth, proportional to profile sharpness\n",
    "z_ftype='ls';  % least-squares filter design, Use this to get rid of \"Conolly Wings\"\n",
    "z_d1 = 0.01;  z_d2 = 0.01;  % slice profile pass and stop-band ripples, respectively\n",
    "\n",
    "ang = pi/6; % flip angle\n",
    "\n",
    "% Set up spectral/spatial specifications\n",
    "a = [0 1];\n",
    "d = [0.02 0.005];\n",
    "ptype = 'ex';\n",
    "f_ctr = [];\n",
    "\n",
    "s_ftype = 'min';% min-phase spectral \n",
    "ss_type = 'Flyback Whole';        % Flyback, symmetric frequency\n",
    "dbg = 0;% debug level\n",
    "                                        % 0 -none, 1 - little, 2 -lots, ...\n",
    "\n",
    "default_opt = {'Max Duration', 16e-3, ...\n",
    "\t      'Num Lobe Iters', 5, ...\n",
    "          'Min Order', 1, ...\n",
    "\t      'Spect Correct', 0, ...\n",
    "\t      'SLR', 0, ...\n",
    "\t      'Verse Fraction', 0.9};\n",
    "     \n",
    "opt = ss_opt(default_opt);\n",
    "\n",
    "% Not working in Octave\n",
    "%[g,rf,fs,z,f,mxy] = ss_design(z_thk, z_tb, [z_d1 z_d2], fspec, a*ang, d, ptype, ...\n",
    "%\t\t\t    z_ftype, s_ftype, ss_type, f_ctr, dbg);\n",
    "                \n",
    "fprintf(1, 'The frequency spec includes a passband at [%3f,%3f]\\n',fspec(3),fspec(4));\n",
    "fprintf(1, 'and stopbands at [%3f,%3f]\\n',fspec(1),fspec(2));\n"
   ]
  },
  {
   "cell_type": "code",
   "execution_count": null,
   "metadata": {},
   "outputs": [],
   "source": []
  }
 ],
 "metadata": {
  "kernelspec": {
   "display_name": "Octave",
   "language": "octave",
   "name": "octave"
  },
  "language_info": {
   "file_extension": ".m",
   "help_links": [
    {
     "text": "GNU Octave",
     "url": "https://www.gnu.org/software/octave/support.html"
    },
    {
     "text": "Octave Kernel",
     "url": "https://github.com/Calysto/octave_kernel"
    },
    {
     "text": "MetaKernel Magics",
     "url": "https://metakernel.readthedocs.io/en/latest/source/README.html"
    }
   ],
   "mimetype": "text/x-octave",
   "name": "octave",
   "version": "5.1.0"
  }
 },
 "nbformat": 4,
 "nbformat_minor": 2
}
