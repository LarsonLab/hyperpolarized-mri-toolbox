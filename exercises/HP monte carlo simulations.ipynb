{
 "cells": [
  {
   "cell_type": "markdown",
   "id": "755cfea7",
   "metadata": {},
   "source": [
    "# Exercises: Monte Carlo Simulations"
   ]
  },
  {
   "cell_type": "markdown",
   "id": "d81b55df",
   "metadata": {},
   "source": [
    "## Install code, setup path\n",
    "\n",
    "To run this code you will need to clone the hyperpolarized MRI toolbox\n",
    "repository from github and add it to your matlab path. \n",
    "This can be done with the following command:\n",
    "'git clone https://github.com/LarsonLab/hyperpolarized-mri-toolbox/'\n",
    "\n",
    "This also requires the Optimization Toolbox (Matlab) or 'optim' toolbox (Octave) for the kinetic model fitting and Image Processing Toolbox ('image' in Octave) for plots\n"
   ]
  },
  {
   "cell_type": "code",
   "execution_count": null,
   "id": "35c5d0d8",
   "metadata": {},
   "outputs": [],
   "source": [
    "% setup hyperpolarized-mri-toolbox\n",
    "cd ../\n",
    "if exist('startup.m')\n",
    "    startup\n",
    "else\n",
    "    cd ../\n",
    "    startup\n",
    "end"
   ]
  },
  {
   "cell_type": "markdown",
   "id": "e74a7559",
   "metadata": {},
   "source": [
    "## Exercise: Exploring the Monte Carlo Simulation Function\n",
    "\n",
    "These exercises will walk you through working with monte carlo simulation for HP experiments.\n",
    "The function we will be using is simulations/HP_montecarlo_evaluation.m and the script demonstrating how to use the function is simulations/test_HP_montecarlo_evaluation.m\n",
    "\n",
    "To start use the following parameters:\n",
    "<ul>\n",
    "    <li>NMC (# of MC samples) = 20 -- you can use higher values if you like but it will take longer to run </li>\n",
    "    <li>Pyruvate T1 = 25s </li>\n",
    "    <li>Lactate T1 = 25s </li>\n",
    "    <li>kPL = 0.02 </li>\n",
    "    <li>std noise = 0.005 </li>\n",
    "    <li>Tarrival = 0 </li>\n",
    "    <li>Tbolus = 8 </li>\n",
    "    <li>TR = 3s </li>\n",
    "    <li>Flip Angles = 10 deg (pyr), 40 deg (lac) -- see flip_scheme 1 in test_HP_montecarlo_evaluation.m </li>\n",
    "    <li>Number of timepoints (N) = 16 </li>\n",
    "</ul>"
   ]
  },
  {
   "cell_type": "code",
   "execution_count": null,
   "id": "50363c52",
   "metadata": {},
   "outputs": [],
   "source": [
    "% 1. First, use the HP_montecarlo_evaluation.m function to compare inputless kPL fitting (@fit_pyr_kinetics) to \n",
    "% the AUC ratio (@compute_AUCratio) with the given parameters (above). \n",
    "% To start, fix pyruvate T1 and lactate T1 and fit kPL. \n",
    "% See test_HP_montecarlo_evaluation.m for an example\n",
    "\n",
    "% define experiment parameters ex. experiment.R1L = 1/25 ... \n",
    "\n",
    "% define acquisition parameters and flip angles\n",
    "\n",
    "% define fitting parameters -- assume you estimate the parameters correctly i.e. fitting estimates = experiment parameters\n",
    "\n",
    "% run the function\n"
   ]
  },
  {
   "cell_type": "code",
   "execution_count": null,
   "id": "202725a5",
   "metadata": {},
   "outputs": [],
   "source": [
    "% display the components of results.kPL_test"
   ]
  },
  {
   "cell_type": "code",
   "execution_count": null,
   "id": "a1fd13ed",
   "metadata": {},
   "outputs": [],
   "source": [
    "% 2. Increase the experimental noise, what do you expect to happen?\n",
    "% Run the function again, and compare the plots to the first run"
   ]
  },
  {
   "cell_type": "code",
   "execution_count": null,
   "id": "07d00fd4",
   "metadata": {},
   "outputs": [],
   "source": [
    "% 3. Set experimental noise back to the original value and try running the \n",
    "% montecarlo simulation for kPL fitting with input instead of inputless (@fit_pyr_kinetics_and_input)"
   ]
  },
  {
   "cell_type": "code",
   "execution_count": null,
   "id": "fb8e8941",
   "metadata": {},
   "outputs": [],
   "source": [
    "% 4. Run the simulation for inputless fitting while fitting the lactate T1. "
   ]
  },
  {
   "cell_type": "code",
   "execution_count": null,
   "id": "5612e98f",
   "metadata": {},
   "outputs": [],
   "source": [
    "% 5. Try another flip scheme (#2, #3 or your own). You can also try changing the number of phase encodes and/or TR.\n",
    "% How does the inputless fitting function compare to the AUC ratio with \n",
    "% more complicated flip angle schemes? "
   ]
  },
  {
   "cell_type": "markdown",
   "id": "bc9cf46c",
   "metadata": {},
   "source": [
    "## Exercise: Comparing Multiple Fitting Methods"
   ]
  },
  {
   "cell_type": "code",
   "execution_count": null,
   "id": "5f895721",
   "metadata": {},
   "outputs": [],
   "source": [
    "% 1. Now, compare inputless kPL fitting, kPL fitting with input and the AUC ratio all together\n",
    "% See the 3rd section of test_HP_montecarlo_evaluation.m for an example"
   ]
  },
  {
   "cell_type": "code",
   "execution_count": null,
   "id": "25d7285f",
   "metadata": {},
   "outputs": [],
   "source": [
    "% 2. Compare the accuracy between the inputless kpl fitting with fixed\n",
    "% lactate T1, inputless kPL fitting with fit lactate T1 and AUC ratio."
   ]
  },
  {
   "cell_type": "markdown",
   "id": "63426d96",
   "metadata": {},
   "source": [
    "## Exercise: Explore the Effect of Lactate T1 on kPL Fit Accuracy"
   ]
  },
  {
   "cell_type": "code",
   "execution_count": null,
   "id": "28b17026",
   "metadata": {},
   "outputs": [],
   "source": [
    "% 1. Compare inputless fitting with an incorrect estimated lactate T1 to\n",
    "% inputless fitting with correct estimated lactate T1. How does estimating\n",
    "% lactate T1 incorrectly affect kPL accuracy?"
   ]
  },
  {
   "cell_type": "code",
   "execution_count": null,
   "id": "b580bc11",
   "metadata": {},
   "outputs": [],
   "source": [
    "% 2. Try the above experiment again but while fitting T1. "
   ]
  },
  {
   "cell_type": "code",
   "execution_count": null,
   "id": "70d8ce6b",
   "metadata": {},
   "outputs": [],
   "source": []
  }
 ],
 "metadata": {
  "kernelspec": {
   "display_name": "MATLAB",
   "language": "matlab",
   "name": "imatlab"
  },
  "language_info": {
   "codemirror_mode": "octave",
   "file_extension": ".m",
   "mimetype": "text/x-matlab",
   "name": "matlab",
   "nbconvert_exporter": "imatlab._exporter.MatlabExporter",
   "pygments_lexer": "matlab",
   "version": "9.6.0.1174912 (R2019a) Update 5"
  }
 },
 "nbformat": 4,
 "nbformat_minor": 5
}
