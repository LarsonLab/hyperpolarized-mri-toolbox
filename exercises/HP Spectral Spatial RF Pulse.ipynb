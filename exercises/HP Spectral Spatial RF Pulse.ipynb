{
 "cells": [
  {
   "cell_type": "markdown",
   "metadata": {},
   "source": [
    "# Exercises: HP Spectral-Spatial RF Pulse Design\n",
    "\n",
    "\n"
   ]
  },
  {
   "cell_type": "code",
   "execution_count": null,
   "metadata": {},
   "outputs": [],
   "source": [
    "% If you have any questions about these exercises, please let us know.\n",
    "% Xiaoxi Liu (Xiaoxi.Liu@ucsf.edu)\n",
    "% Peder Larson (Peder.Larson@ucsf.edu)"
   ]
  },
  {
   "cell_type": "markdown",
   "metadata": {},
   "source": [
    "## Install code, setup path\n",
    "To run this code you will need to clone the hyperpolarized MRI toolbox repository from github and add it to your matlab path. This can be done with the following command: 'git clone https://github.com/LarsonLab/hyperpolarized-mri-toolbox/'\n",
    "\n",
    "Then run the 'startup' function to setup the appropriate paths"
   ]
  },
  {
   "cell_type": "code",
   "execution_count": null,
   "metadata": {},
   "outputs": [],
   "source": [
    "% setup hyperpolarized-mri-toolbox\n",
    "cd ../\n",
    "if exist('startup.m')\n",
    "    startup\n",
    "else\n",
    "    cd ../\n",
    "    startup\n",
    "end"
   ]
  },
  {
   "cell_type": "markdown",
   "metadata": {},
   "source": [
    "## Exercise: Design a SPSP RF Pulse for C1-Pyruvate"
   ]
  },
  {
   "cell_type": "code",
   "execution_count": null,
   "metadata": {},
   "outputs": [],
   "source": [
    "% Design a single band pulse for a metabolite specific C1-pyruvate imaging on a 3T scanner. \n",
    "\n",
    "% The peaks include bicarbonate (-322Hz), pyruvate (0Hz), alanine (185Hz), pyruvate hydrate (270Hz), lactate (395Hz).\n",
    "\n",
    "% Considering B0 inhomogeneity when setting passband frequency"
   ]
  },
  {
   "cell_type": "markdown",
   "metadata": {},
   "source": [
    "## Exercise: Design a SPSP RF Pulse for C1-alpha-ketoglutarate\n"
   ]
  },
  {
   "cell_type": "code",
   "execution_count": null,
   "metadata": {},
   "outputs": [],
   "source": [
    "% Design a single band pulse for a metabolite specific C1-aKG imaging on a 3T scanner. \n",
    "\n",
    "% The peaks include aKG (0Hz), glutamate (142Hz), aKG hydrate (253Hz), 2HG (368Hz).\n",
    "\n",
    "% Considering B0 inhomogeneity when setting passband frequency"
   ]
  },
  {
   "cell_type": "markdown",
   "metadata": {},
   "source": [
    "## Exercise: Design a Multiband SPSP RF Pulse for C2-pyruvate"
   ]
  },
  {
   "cell_type": "code",
   "execution_count": null,
   "metadata": {},
   "outputs": [],
   "source": [
    "% Design a multiband pulse for a spectroscopy C2-pyruvate imaging on a 3T scanner. \n",
    "\n",
    "% Considering signal level of substrate is high, using 20degree flip angle to excite C2-pyruvate, and using 30degree flip angle for the metabolic products.\n",
    "% Constraint signal level of C2-pyruvate hydrate.\n",
    "\n",
    "% The peaks include C2-pyruvate (0Hz), C5-glutamate (767.8Hz), C1-citrate (851.3Hz), C1-Acetoacetate (976.6Hz), C1-ALCAR (1037.6Hz), \n",
    "% C1-pyruvate doublelet (1105.1Hz), C2-pyruvate hydrate (3578.7Hz), C2-lactate doublelet (4410.8Hz).\n",
    "\n",
    "% Considering B0 inhomogeneity when setting passband frequency"
   ]
  }
 ],
 "metadata": {
  "kernelspec": {
   "display_name": "Octave",
   "language": "octave",
   "name": "octave"
  },
  "language_info": {
   "file_extension": ".m",
   "help_links": [
    {
     "text": "GNU Octave",
     "url": "https://www.gnu.org/software/octave/support.html"
    },
    {
     "text": "Octave Kernel",
     "url": "https://github.com/Calysto/octave_kernel"
    },
    {
     "text": "MetaKernel Magics",
     "url": "https://metakernel.readthedocs.io/en/latest/source/README.html"
    }
   ],
   "mimetype": "text/x-octave",
   "name": "octave",
   "version": "5.1.0"
  }
 },
 "nbformat": 4,
 "nbformat_minor": 2
}
