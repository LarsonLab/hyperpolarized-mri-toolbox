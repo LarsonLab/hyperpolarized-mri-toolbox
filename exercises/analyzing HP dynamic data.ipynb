{
 "cells": [
  {
   "cell_type": "markdown",
   "metadata": {},
   "source": [
    "# Exercises: Analyzing Hyperpolarized Data"
   ]
  },
  {
   "cell_type": "markdown",
   "metadata": {},
   "source": [
    "## Install code, setup path\n",
    "\n",
    "To run this code you will need to clone the hyperpolarized MRI toolbox\n",
    "repository from github and add it to your matlab path. \n",
    "This can be done with the following command:\n",
    "'git clone https://github.com/LarsonLab/hyperpolarized-mri-toolbox/'\n",
    "\n",
    "This also requires the Optimization Toolbox (Matlab) or 'optim' toolbox (Octave) for the kinetic model fitting and Image Processing Toolbox ('image' in Octave) for plots\n"
   ]
  },
  {
   "cell_type": "code",
   "execution_count": null,
   "metadata": {},
   "outputs": [],
   "source": [
    "% setup hyperpolarized-mri-toolbox\n",
    "cd ../\n",
    "if exist('startup.m')\n",
    "    startup\n",
    "else\n",
    "    cd ../\n",
    "    startup\n",
    "end"
   ]
  },
  {
   "cell_type": "markdown",
   "metadata": {},
   "source": [
    "## Exercise: Load and visualize a HP imaging dataset\n",
    "\n"
   ]
  },
  {
   "cell_type": "code",
   "execution_count": null,
   "metadata": {},
   "outputs": [],
   "source": [
    "%% Load an imaging dataset\n",
    "% sample_data available in toolbox\n",
    "% Easiest: rat or mouse EPI data (single channel RF coil)\n",
    "% Challenge: Human Brain EPI (multi-channel coil, need to implement coil combination)\n",
    "\n",
    "\n",
    "% lists all variables\n",
    "whos"
   ]
  },
  {
   "cell_type": "code",
   "execution_count": null,
   "metadata": {},
   "outputs": [],
   "source": [
    "%% Visualize dataset\n",
    "% for all, find areas that have signal\n",
    "\n",
    "% 1. display an image from each metabolite at a single time-point"
   ]
  },
  {
   "cell_type": "code",
   "execution_count": null,
   "metadata": {},
   "outputs": [],
   "source": [
    "% 2. display all slices and/or timepoints for a single metabolite\n",
    "\n",
    "% montage() command is useful, but expects a MxNx1xP matrix for grayscale images\n",
    "% so use something like this to add a singleton dimension to data:\n",
    "% data_for_montage = permute(data, [1 2 ndims(data)+1 plot_dimension])"
   ]
  },
  {
   "cell_type": "code",
   "execution_count": null,
   "metadata": {},
   "outputs": [],
   "source": [
    "% 3. extract the time curves for all metabolites from a single voxel, and plot versus time"
   ]
  },
  {
   "cell_type": "markdown",
   "metadata": {},
   "source": [
    "## Exercise: Model-free Metrics"
   ]
  },
  {
   "cell_type": "code",
   "execution_count": null,
   "metadata": {},
   "outputs": [],
   "source": [
    "%% Plot Lactate/Pyruvate vs time for a single voxel \n",
    "\n"
   ]
  },
  {
   "cell_type": "code",
   "execution_count": null,
   "metadata": {},
   "outputs": [],
   "source": [
    "%% Display an image of the AUCratio for each slice\n",
    "% use compute_AUCratio()\n",
    "% create a signal mask to only show relevant voxels\n"
   ]
  },
  {
   "cell_type": "markdown",
   "metadata": {},
   "source": [
    "## Exercise: Kinetic Modeling"
   ]
  },
  {
   "cell_type": "code",
   "execution_count": null,
   "metadata": {},
   "outputs": [],
   "source": [
    "%% Compute kPL and display kPL maps\n",
    "% use fit_pyr_kinetics, with fixed T1 values \n",
    "% create a signal mask to only fit and show relevant voxels\n"
   ]
  },
  {
   "cell_type": "code",
   "execution_count": null,
   "metadata": {},
   "outputs": [],
   "source": [
    "%% Compute kPL with different fixed T1 values"
   ]
  },
  {
   "cell_type": "code",
   "execution_count": null,
   "metadata": {},
   "outputs": [],
   "source": [
    "%% Compute kPL while fitting (not fixing) T1 values "
   ]
  },
  {
   "cell_type": "markdown",
   "metadata": {},
   "source": [
    "## Exercise: Load and visualize a HP spectroscopy dataset\n",
    "\n"
   ]
  },
  {
   "cell_type": "code",
   "execution_count": null,
   "metadata": {},
   "outputs": [],
   "source": [
    "%% Load a spectroscopic imaging dataset\n",
    "% sample_data available in toolbox\n",
    "% Options: human prostate dynamic MRSI, spectral data is [f,x,y,t]\n",
    "\n",
    "% clear all; % clean up workspace\n",
    "\n",
    "% list all variables\n",
    "whos"
   ]
  },
  {
   "cell_type": "code",
   "execution_count": null,
   "metadata": {},
   "outputs": [],
   "source": [
    "%% Visualize dataset\n",
    "% for all, find areas that have signal\n",
    "\n",
    "% 1. use plot_voxels() to show all spectra at a given time point\n",
    "% may require using permute() to match dimensionality"
   ]
  },
  {
   "cell_type": "code",
   "execution_count": null,
   "metadata": {},
   "outputs": [],
   "source": [
    "% 2. display a spectrum from a single voxel at a single time-point"
   ]
  },
  {
   "cell_type": "code",
   "execution_count": null,
   "metadata": {},
   "outputs": [],
   "source": [
    "%% Extract metabolite maps\n",
    "\n",
    "% 1. measure a metabolite (e.g. pyruvate) peak location from a single voxel spectrum\n",
    "\n",
    "% 2. compute peak heights for all voxels and time-points\n",
    "% use max() with an input of the measured peak location + [-5,5] to account for inhomogeneity"
   ]
  },
  {
   "cell_type": "code",
   "execution_count": null,
   "metadata": {},
   "outputs": [],
   "source": [
    "% 2. (bonus) integrate peak area from phased spectra\n",
    "\n",
    "% find_phase_corr() function maybe helpful"
   ]
  },
  {
   "cell_type": "code",
   "execution_count": null,
   "metadata": {},
   "outputs": [],
   "source": [
    "%% Visualize Images\n",
    "% 1. display a metabolite image for all time-points"
   ]
  },
  {
   "cell_type": "code",
   "execution_count": null,
   "metadata": {},
   "outputs": [],
   "source": [
    "% 2. extract the time curves from a single voxel, and plot"
   ]
  },
  {
   "cell_type": "code",
   "execution_count": null,
   "metadata": {},
   "outputs": [],
   "source": []
  }
 ],
 "metadata": {
  "kernelspec": {
   "display_name": "Octave",
   "language": "octave",
   "name": "octave"
  },
  "language_info": {
   "file_extension": ".m",
   "help_links": [
    {
     "text": "GNU Octave",
     "url": "https://www.gnu.org/software/octave/support.html"
    },
    {
     "text": "Octave Kernel",
     "url": "https://github.com/Calysto/octave_kernel"
    },
    {
     "text": "MetaKernel Magics",
     "url": "https://metakernel.readthedocs.io/en/latest/source/README.html"
    }
   ],
   "mimetype": "text/x-octave",
   "name": "octave",
   "version": "5.1.0"
  }
 },
 "nbformat": 4,
 "nbformat_minor": 4
}
