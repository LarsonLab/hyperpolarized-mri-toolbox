{
 "cells": [
  {
   "cell_type": "markdown",
   "metadata": {},
   "source": [
    "# Exercises: Analyzing Hyperpolarized Data"
   ]
  },
  {
   "cell_type": "markdown",
   "metadata": {},
   "source": [
    "## Install code, setup path\n",
    "\n",
    "To run this code you will need to clone the hyperpolarized MRI toolbox\n",
    "repository from github and add it to your matlab path. \n",
    "This can be done with the following command:\n",
    "'git clone https://github.com/LarsonLab/hyperpolarized-mri-toolbox/'\n",
    "\n",
    "This also requires the Optimization Toolbox (Matlab) or 'optim' toolbox (Octave) for the kinetic model fitting and Image Processing Toolbox ('image' in Octave) for plots\n"
   ]
  },
  {
   "cell_type": "code",
   "execution_count": null,
   "metadata": {},
   "outputs": [],
   "source": [
    "% setup hyperpolarized-mri-toolbox\n",
    "cd ../\n",
    "if exist('startup.m')\n",
    "    startup\n",
    "else\n",
    "    cd ../\n",
    "    startup\n",
    "end"
   ]
  },
  {
   "cell_type": "markdown",
   "metadata": {},
   "source": [
    "## Exercise: Load and visualize a HP imaging dataset\n",
    "\n"
   ]
  },
  {
   "cell_type": "code",
   "execution_count": null,
   "metadata": {},
   "outputs": [],
   "source": [
    "%% Load an imaging dataset\n",
    "% sample_data available in toolbox\n",
    "% Easiest: rat or mouse EPI data (single channel RF coil)\n",
    "% Challenge: Human Brain EPI (multi-channel coil, need to implement coil combination)\n"
   ]
  },
  {
   "cell_type": "code",
   "execution_count": null,
   "metadata": {},
   "outputs": [],
   "source": [
    "%% Visualize dataset\n",
    "% for all, find areas that have signal\n",
    "\n",
    "% 1. display an image from each metabolite at a single time-point\n",
    "\n",
    "% 2. display all slices for a single metabolite at a single time-point\n",
    "\n",
    "% 3. extract the time curves for all metabolites from a single voxel, and plot"
   ]
  },
  {
   "cell_type": "markdown",
   "metadata": {},
   "source": [
    "## Exercise: Load and visualize a HP spectroscopy dataset\n",
    "\n"
   ]
  },
  {
   "cell_type": "code",
   "execution_count": null,
   "metadata": {},
   "outputs": [],
   "source": [
    "%% Load a spectroscopic imaging dataset\n",
    "% sample_data available in toolbox\n",
    "% Options: human prostate dynamic MRSI, primate brain dynamic CSI\n"
   ]
  },
  {
   "cell_type": "code",
   "execution_count": null,
   "metadata": {},
   "outputs": [],
   "source": [
    "%% Extract metabolite maps\n",
    "\n",
    "% 1. use peak height\n",
    "\n",
    "% 2. (bonus) integrate peak area after phasing"
   ]
  },
  {
   "cell_type": "code",
   "execution_count": null,
   "metadata": {},
   "outputs": [],
   "source": [
    "%% Visualize dataset\n",
    "% for all, find areas that have signal\n",
    "\n",
    "% 1. display a spectrum from a single voxel at a single time-point\n",
    "\n",
    "% 2. display an image from each metabolite at a single time-point\n",
    "\n",
    "% 3. extract the time curves for all metabolites from a single voxel, and plot"
   ]
  },
  {
   "cell_type": "markdown",
   "metadata": {},
   "source": [
    "## Exercise: Model-free Metrics"
   ]
  },
  {
   "cell_type": "code",
   "execution_count": null,
   "metadata": {},
   "outputs": [],
   "source": [
    "%% Plot Lactate/Pyruvate vs time for a single voxel \n",
    "\n"
   ]
  },
  {
   "cell_type": "code",
   "execution_count": null,
   "metadata": {},
   "outputs": [],
   "source": [
    "%% Display an image of the AUCratio for each slice\n",
    "\n"
   ]
  },
  {
   "cell_type": "markdown",
   "metadata": {},
   "source": [
    "## Exercise: Kinetic Modeling"
   ]
  },
  {
   "cell_type": "code",
   "execution_count": null,
   "metadata": {},
   "outputs": [],
   "source": [
    "%% Compute kPL and display kPL maps\n",
    "% use fit_pyr_kinetics, with fixed T1 values "
   ]
  },
  {
   "cell_type": "code",
   "execution_count": null,
   "metadata": {},
   "outputs": [],
   "source": [
    "%% Compute kPL with different fixed T1 values"
   ]
  },
  {
   "cell_type": "code",
   "execution_count": null,
   "metadata": {},
   "outputs": [],
   "source": [
    "%% Compute kPL while fitting (not fixing) T1 values "
   ]
  },
  {
   "cell_type": "code",
   "execution_count": null,
   "metadata": {},
   "outputs": [],
   "source": []
  }
 ],
 "metadata": {
  "kernelspec": {
   "display_name": "Octave",
   "language": "octave",
   "name": "octave"
  },
  "language_info": {
   "file_extension": ".m",
   "help_links": [
    {
     "text": "GNU Octave",
     "url": "https://www.gnu.org/software/octave/support.html"
    },
    {
     "text": "Octave Kernel",
     "url": "https://github.com/Calysto/octave_kernel"
    },
    {
     "text": "MetaKernel Magics",
     "url": "https://metakernel.readthedocs.io/en/latest/source/README.html"
    }
   ],
   "mimetype": "text/x-octave",
   "name": "octave",
   "version": "5.1.0"
  }
 },
 "nbformat": 4,
 "nbformat_minor": 4
}
